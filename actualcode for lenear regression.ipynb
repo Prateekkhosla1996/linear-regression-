{
 "cells": [
  {
   "cell_type": "code",
   "execution_count": 1,
   "metadata": {},
   "outputs": [],
   "source": [
    "import numpy as np\n",
    "data=np.loadtxt('data.csv',delimiter=',')\n",
    "x=data[:,0]\n",
    "y=data[:,1]"
   ]
  },
  {
   "cell_type": "code",
   "execution_count": 2,
   "metadata": {},
   "outputs": [],
   "source": [
    "from sklearn import model_selection\n",
    "xtrain,xtest,ytrain,ytest=model_selection.train_test_split(x,y,test_size=0.3)\n"
   ]
  },
  {
   "cell_type": "code",
   "execution_count": 3,
   "metadata": {},
   "outputs": [],
   "source": [
    "def fit(xtrain,ytrain):\n",
    "    num=(xtrain*ytrain).mean()-xtrain.mean()*ytrain.mean()\n",
    "    den=(xtrain**2).mean()-xtrain.mean()**2\n",
    "    m=num/den\n",
    "    c=ytrain.mean()-m*xtrain.mean()\n",
    "    return m,c"
   ]
  },
  {
   "cell_type": "code",
   "execution_count": 4,
   "metadata": {},
   "outputs": [],
   "source": [
    "def predict(m,x,c):\n",
    "    return m * x + c\n",
    "def score(y_truth,y_pridict):\n",
    "    u=((y_truth-y_pridict)**2).sum()\n",
    "    v=((y_truth-y_truth.mean())**2).sum()\n",
    "    return 1-u/v\n",
    "def cost(x,y,m,c):\n",
    "    return ((y-m*x-c)**2).mean()"
   ]
  },
  {
   "cell_type": "code",
   "execution_count": 5,
   "metadata": {},
   "outputs": [
    {
     "name": "stdout",
     "output_type": "stream",
     "text": [
      "0.48698996962698826\n",
      "0.6140692496380876\n",
      "1.3593719721025104 6.502732705037289\n",
      "112.37029769703916\n"
     ]
    }
   ],
   "source": [
    "m,c=fit(xtrain,ytrain)\n",
    "#test data\n",
    "y_test_pred=predict(xtest,m,c)\n",
    "print(score(ytest,y_test_pred))\n",
    "#train data\n",
    "y_train_pred=predict(xtrain,m,c)\n",
    "print(score(ytrain,y_train_pred))\n",
    "print(m,c)\n",
    "print(cost(xtrain,ytrain,m,c))"
   ]
  },
  {
   "cell_type": "code",
   "execution_count": 6,
   "metadata": {},
   "outputs": [
    {
     "data": {
      "text/plain": [
       "'C:\\\\Users\\\\prate\\\\python'"
      ]
     },
     "execution_count": 6,
     "metadata": {},
     "output_type": "execute_result"
    }
   ],
   "source": [
    "pwd"
   ]
  },
  {
   "cell_type": "markdown",
   "metadata": {},
   "source": []
  }
 ],
 "metadata": {
  "kernelspec": {
   "display_name": "Python 3",
   "language": "python",
   "name": "python3"
  },
  "language_info": {
   "codemirror_mode": {
    "name": "ipython",
    "version": 3
   },
   "file_extension": ".py",
   "mimetype": "text/x-python",
   "name": "python",
   "nbconvert_exporter": "python",
   "pygments_lexer": "ipython3",
   "version": "3.7.1"
  }
 },
 "nbformat": 4,
 "nbformat_minor": 2
}
